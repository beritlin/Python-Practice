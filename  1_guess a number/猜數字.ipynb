{
 "cells": [
  {
   "cell_type": "markdown",
   "metadata": {},
   "source": [
    "## 猜數字-終極密碼"
   ]
  },
  {
   "cell_type": "markdown",
   "metadata": {},
   "source": [
    "### 輸入\n",
    "數字 2-99 的亂數"
   ]
  },
  {
   "cell_type": "code",
   "execution_count": 1,
   "metadata": {},
   "outputs": [
    {
     "name": "stdout",
     "output_type": "stream",
     "text": [
      "84\n"
     ]
    }
   ],
   "source": [
    "import random\n",
    "lowest = 1 #最小的數 1\n",
    "largest = 100 #最大的數 100\n",
    "ans = random.randint(lowest, largest) #取從2到99的亂數\n",
    "# print(ans)"
   ]
  },
  {
   "cell_type": "markdown",
   "metadata": {},
   "source": [
    "### 輸出\n",
    "\n",
    "<p> 猜對的話輸出“答案正確！答案是x” \n",
    "<p> 猜錯則反之輸出“答案錯誤，請往下猜”\n",
    "<p> 或“答案錯誤，請往上猜”\n",
    "<p> 如果猜的數字不在範圍內則輸出“超過範圍”並重新輸入"
   ]
  },
  {
   "cell_type": "code",
   "execution_count": 2,
   "metadata": {},
   "outputs": [
    {
     "name": "stdout",
     "output_type": "stream",
     "text": [
      "1 < ? < 100\n",
      "請輸入答案：3\n",
      "答案錯誤，請往上猜\n",
      "3 < ? < 100\n",
      "請輸入答案：59\n",
      "答案錯誤，請往上猜\n",
      "59 < ? < 100\n",
      "請輸入答案：90\n",
      "答案錯誤，請往下猜\n",
      "59 < ? < 90\n",
      "請輸入答案：84\n",
      "答案正確！答案是 84\n"
     ]
    }
   ],
   "source": [
    "print(str(lowest) + ' < ? < ' + str(largest))\n",
    "guess=0\n",
    "\n",
    "while guess!=ans:\n",
    "    guess = int(input(\"請輸入答案：\"))   \n",
    "    if guess == largest:\n",
    "        print('超過範圍')\n",
    "        print(str(lowest) + ' < ? < ' + str(largest))\n",
    "    elif guess == lowest:\n",
    "        print('超過範圍')\n",
    "        print(str(lowest) + ' < ? < ' + str(largest))\n",
    "    elif guess < ans:\n",
    "        print('答案錯誤，請往上猜')\n",
    "        lowest= guess\n",
    "        print(str(lowest) + ' < ? < ' + str(largest))\n",
    "    elif guess > ans:\n",
    "        print('答案錯誤，請往下猜')\n",
    "        largest= guess\n",
    "        print(str(lowest) + ' < ? < ' + str(largest))\n",
    "    else: \n",
    "        print('答案正確！答案是 {}'.format(ans))"
   ]
  }
 ],
 "metadata": {
  "kernelspec": {
   "display_name": "Python 3",
   "language": "python",
   "name": "python3"
  },
  "language_info": {
   "codemirror_mode": {
    "name": "ipython",
    "version": 3
   },
   "file_extension": ".py",
   "mimetype": "text/x-python",
   "name": "python",
   "nbconvert_exporter": "python",
   "pygments_lexer": "ipython3",
   "version": "3.7.4"
  }
 },
 "nbformat": 4,
 "nbformat_minor": 2
}
