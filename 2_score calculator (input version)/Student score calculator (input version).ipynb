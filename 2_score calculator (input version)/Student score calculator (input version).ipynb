{
 "cells": [
  {
   "cell_type": "markdown",
   "metadata": {},
   "source": [
    "# Student score calculator - input version"
   ]
  },
  {
   "cell_type": "markdown",
   "metadata": {},
   "source": [
    "## Input\n",
    "the scores of five students:\n",
    "\n",
    "76 73 85  \n",
    "88 84 76  \n",
    "92 82 92  \n",
    "82 91 85  \n",
    "72 74 73  "
   ]
  },
  {
   "cell_type": "code",
   "execution_count": 1,
   "metadata": {},
   "outputs": [
    {
     "name": "stdout",
     "output_type": "stream",
     "text": [
      "76 73 85\n",
      "88 84 76\n",
      "92 82 92\n",
      "82 91 85\n",
      "72 74 73\n",
      "[[76, 73, 85], [88, 84, 76], [92, 82, 92], [82, 91, 85], [72, 74, 73]]\n"
     ]
    }
   ],
   "source": [
    "n=5 ## five students\n",
    "line=[[0]*n]*n ## create a list\n",
    "for i in range(n):\n",
    "    a = input().split(\" \")\n",
    "    lis = []\n",
    "    for ii in a:\n",
    "        lis.append(int(ii)) ## change str to int\n",
    "    line[i]= lis\n",
    "\n",
    "print(line)"
   ]
  },
  {
   "cell_type": "markdown",
   "metadata": {},
   "source": [
    "## Output\n",
    "<p>student 1 <br>\n",
    "&emsp;1. score 1   <br>\n",
    "&emsp;2. score 2   <br>\n",
    "&emsp;3. score 3   <br>\n",
    "&emsp;total score   <br>\n",
    "&emsp;average score (two decimal places)   <br>\n",
    "<p>student 2 <br>\n",
    "&emsp;1. score 1   <br>\n",
    "&emsp;2. score 2   <br>\n",
    "&emsp;3. score 3   <br>\n",
    "&emsp;total score   <br>\n",
    "&emsp;average score (two decimal places)   <br>\n",
    ".<br>\n",
    ".<br>\n",
    ".<br>\n",
    "<p>student 5<br>\n",
    "&emsp;1. score 1   <br>\n",
    "&emsp;2. score 2   <br>\n",
    "&emsp;3. score 3   <br>\n",
    "&emsp;total score   <br>\n",
    "&emsp;average score (two decimal places)   <br>\n",
    "<p>total score of the class<br>\n",
    "average score of the class (two decimal places)<br>\n",
    "the student with highest score<br>"
   ]
  },
  {
   "cell_type": "code",
   "execution_count": 2,
   "metadata": {},
   "outputs": [],
   "source": [
    "def avg(Lst):\n",
    "    return sum(line[i])/len(line[i]) ## the average function"
   ]
  },
  {
   "cell_type": "code",
   "execution_count": 3,
   "metadata": {
    "scrolled": true
   },
   "outputs": [
    {
     "name": "stdout",
     "output_type": "stream",
     "text": [
      "student 1\n",
      " 1: 76\n",
      " 2: 73\n",
      " 3: 85\n",
      " sum: 234\n",
      " avg: 78.00\n",
      "student 2\n",
      " 1: 88\n",
      " 2: 84\n",
      " 3: 76\n",
      " sum: 248\n",
      " avg: 82.67\n",
      "student 3\n",
      " 1: 92\n",
      " 2: 82\n",
      " 3: 92\n",
      " sum: 266\n",
      " avg: 88.67\n",
      "student 4\n",
      " 1: 82\n",
      " 2: 91\n",
      " 3: 85\n",
      " sum: 258\n",
      " avg: 86.00\n",
      "student 5\n",
      " 1: 72\n",
      " 2: 74\n",
      " 3: 73\n",
      " sum: 219\n",
      " avg: 73.00\n",
      "total: 1225\n",
      "avg: 81.67\n",
      "highest avg: student 3: 88.67\n"
     ]
    }
   ],
   "source": [
    "total_sum = 0\n",
    "total_avg = 0\n",
    "av=[]\n",
    "st=[]\n",
    "\n",
    "for i in range(n):\n",
    "    stu = \"student {}\".format(i+1)\n",
    "    st.append(stu)\n",
    "    print(stu)\n",
    "    print(\" 1: {}\".format(line[i][0]))\n",
    "    print(\" 2: {}\".format(line[i][1]))\n",
    "    print(\" 3: {}\".format(line[i][2]))\n",
    "    print(\" sum: {}\".format(sum(line[i])))\n",
    "    print(\" avg: {:.2f}\".format(avg(line[i])))\n",
    "    su = sum(line[i])\n",
    "    a = avg(line[i])\n",
    "    av.append(a)\n",
    "    total_sum=total_sum+su\n",
    "    total_avg = total_sum/((i+1)*3)\n",
    "    if av[i] == max(av): ## finding the student with highest averge score\n",
    "        highav=av[i]\n",
    "        highst=st[i]\n",
    "print(\"total: {}\".format(total_sum))\n",
    "print(\"avg: {:.2f}\".format(total_avg))\n",
    "print('highest avg: '+ str(highst)+ ': {:.2f}'.format(highav))"
   ]
  },
  {
   "cell_type": "code",
   "execution_count": null,
   "metadata": {},
   "outputs": [],
   "source": []
  }
 ],
 "metadata": {
  "kernelspec": {
   "display_name": "Python 3",
   "language": "python",
   "name": "python3"
  },
  "language_info": {
   "codemirror_mode": {
    "name": "ipython",
    "version": 3
   },
   "file_extension": ".py",
   "mimetype": "text/x-python",
   "name": "python",
   "nbconvert_exporter": "python",
   "pygments_lexer": "ipython3",
   "version": "3.7.4"
  }
 },
 "nbformat": 4,
 "nbformat_minor": 2
}
