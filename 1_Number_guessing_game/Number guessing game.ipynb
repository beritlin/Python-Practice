{
 "cells": [
  {
   "cell_type": "markdown",
   "metadata": {},
   "source": [
    "## Number guessing game"
   ]
  },
  {
   "cell_type": "markdown",
   "metadata": {},
   "source": [
    "### Input\n",
    "a random number between 2-99"
   ]
  },
  {
   "cell_type": "code",
   "execution_count": 1,
   "metadata": {},
   "outputs": [
    {
     "name": "stdout",
     "output_type": "stream",
     "text": [
      "72\n"
     ]
    }
   ],
   "source": [
    "import random\n",
    "lowest = 1 \n",
    "largest = 100 \n",
    "ans = random.randint(lowest, largest) #randomly select a number between 2-99\n",
    "# print(ans)"
   ]
  },
  {
   "cell_type": "markdown",
   "metadata": {},
   "source": [
    "### Output\n",
    "\n",
    "<p> If the answer is correct print \"bingo answer is x\" \n",
    "<p> If the answer is incorrect print \"wrong answer, guess larger\" or \"wrong answer, guess smaller\"\n",
    "<p> If the abswer is out of range than print \"out of range\""
   ]
  },
  {
   "cell_type": "code",
   "execution_count": 2,
   "metadata": {},
   "outputs": [
    {
     "name": "stdout",
     "output_type": "stream",
     "text": [
      "1 < ? < 100\n",
      "Please entre your answer：50\n",
      "wrong answer, guess larger\n",
      "50 < ? < 100\n",
      "Please entre your answer：90\n",
      "wrong answer, guess smaller\n",
      "50 < ? < 90\n",
      "Please entre your answer：50\n",
      "out of range\n",
      "50 < ? < 90\n",
      "Please entre your answer：72\n",
      "bingo answer is 72\n"
     ]
    }
   ],
   "source": [
    "print(str(lowest) + ' < ? < ' + str(largest))\n",
    "guess=0\n",
    "\n",
    "while guess!=ans:\n",
    "    guess = int(input(\"Please entre your answer：\"))   \n",
    "    if guess == largest:\n",
    "        print('out of range')\n",
    "        print(str(lowest) + ' < ? < ' + str(largest))\n",
    "    elif guess == lowest:\n",
    "        print('out of range')\n",
    "        print(str(lowest) + ' < ? < ' + str(largest))\n",
    "    elif guess < ans:\n",
    "        print('wrong answer, guess larger')\n",
    "        lowest= guess\n",
    "        print(str(lowest) + ' < ? < ' + str(largest))\n",
    "    elif guess > ans:\n",
    "        print('wrong answer, guess smaller')\n",
    "        largest= guess\n",
    "        print(str(lowest) + ' < ? < ' + str(largest))\n",
    "    else: \n",
    "        print('bingo answer is {}'.format(ans))"
   ]
  }
 ],
 "metadata": {
  "kernelspec": {
   "display_name": "Python 3",
   "language": "python",
   "name": "python3"
  },
  "language_info": {
   "codemirror_mode": {
    "name": "ipython",
    "version": 3
   },
   "file_extension": ".py",
   "mimetype": "text/x-python",
   "name": "python",
   "nbconvert_exporter": "python",
   "pygments_lexer": "ipython3",
   "version": "3.7.4"
  }
 },
 "nbformat": 4,
 "nbformat_minor": 2
}
